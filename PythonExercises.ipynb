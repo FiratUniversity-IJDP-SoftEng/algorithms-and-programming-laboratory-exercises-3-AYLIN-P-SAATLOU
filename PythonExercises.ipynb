{
 "cells": [
  {
   "cell_type": "markdown",
   "metadata": {},
   "source": [
    "# Algorithms and Programming\n",
    "# Exercise Notebook (Intermediate Level)\n",
    "\n",
    "### Name:  AYLIN POURMOHAMMAD SAATLOU\n",
    "### Student ID: 240543604\n",
    "### Date: 07/04/2025\n",
    "\n"
   ]
  },
  {
   "cell_type": "markdown",
   "metadata": {},
   "source": [
    "\n",
    "# Question 1\n",
    "### Write a Python function `is_prime` that determines if the given integer is a prime number.\n",
    "\n",
    "### Test your function\n",
    "```python\n",
    "print(is_prime(11))  # Expected output: True\n",
    "print(is_prime(15))  # Expected output: False\n",
    "```\n",
    "\n"
   ]
  },
  {
   "cell_type": "code",
   "execution_count": 2,
   "metadata": {},
   "outputs": [
    {
     "name": "stdout",
     "output_type": "stream",
     "text": [
      "True\n",
      "False\n"
     ]
    }
   ],
   "source": [
    "def is_prime(n):\n",
    "    if n <= 1:\n",
    "        return False\n",
    "    for i in range (2, n):\n",
    "        if n % i == 0:\n",
    "            return False\n",
    "    return True\n",
    "\n",
    "print(is_prime(13))\n",
    "print(is_prime(22))"
   ]
  },
  {
   "cell_type": "markdown",
   "metadata": {},
   "source": [
    "# Question 2\n",
    "### Write a Python function `gcd` that calculates the greatest common divisor of two integers using the Euclidean algorithm.\n",
    "\n",
    "### Test your function\n",
    "```python\n",
    "print(gcd(48, 18))  # Expected output: 6\n",
    "print(gcd(100, 25))  # Expected output: 25\n",
    "```"
   ]
  },
  {
   "cell_type": "code",
   "execution_count": 5,
   "metadata": {},
   "outputs": [
    {
     "name": "stdout",
     "output_type": "stream",
     "text": [
      "18\n",
      "1\n"
     ]
    }
   ],
   "source": [
    "\n",
    "def gcd(a, b):\n",
    "    while b != 0:\n",
    "        a, b = b, a % b \n",
    "    return a\n",
    "\n",
    "print(gcd(144, 18))\n",
    "print(gcd(9, 50))"
   ]
  },
  {
   "cell_type": "markdown",
   "metadata": {},
   "source": [
    "# Question 3\n",
    "### Write a Python function `count_vowels` that takes a string as input and returns the count of vowels (a, e, i, o, u) in the string.\n",
    "\n",
    "### Test your function\n",
    "```python\n",
    "print(count_vowels(\"intermediate\"))  # Expected output: 5\n",
    "print(count_vowels(\"algorithm\"))  # Expected output: 3\n",
    "```"
   ]
  },
  {
   "cell_type": "code",
   "execution_count": 6,
   "metadata": {},
   "outputs": [
    {
     "name": "stdout",
     "output_type": "stream",
     "text": [
      "5\n"
     ]
    }
   ],
   "source": [
    "def count_vowels(v):\n",
    "    vowels = \"aeiuoAEIUO\"\n",
    "    count = 0\n",
    "    for char in v:\n",
    "        if char in vowels:\n",
    "            count += 1\n",
    "    return count\n",
    "\n",
    "print(count_vowels(\"Hello, everybody\"))\n"
   ]
  },
  {
   "cell_type": "markdown",
   "metadata": {},
   "source": [
    "# Question 4\n",
    "### Write a Python function `merge_sorted_lists` that merges two sorted lists into a single sorted list without using built-in sort functions.\n",
    "\n",
    "### Test your function\n",
    "```python\n",
    "print(merge_sorted_lists([1, 3, 5], [2, 4, 6]))  # Expected output: [1, 2, 3, 4, 5, 6]\n",
    "print(merge_sorted_lists([-3, 0, 7], [-1, 4, 10]))  # Expected output: [-3, -1, 0, 4, 7, 10]\n",
    "```\n"
   ]
  },
  {
   "cell_type": "code",
   "execution_count": 7,
   "metadata": {},
   "outputs": [
    {
     "name": "stdout",
     "output_type": "stream",
     "text": [
      "[1, 3, 4, 7, 9, 5]\n"
     ]
    }
   ],
   "source": [
    "def merge_sorted_lists(list1, list2):\n",
    "    result = []\n",
    "    i = 0\n",
    "    j = 0\n",
    "    while i < len(list1) and j < len(list2):\n",
    "        if list1[i] < list2[j]:\n",
    "            result.append(list1[i])\n",
    "            i += 1\n",
    "        else:\n",
    "            result.append(list2[j])\n",
    "            j += 1\n",
    "    result += list1 [i:]\n",
    "    result += list2 [j:]\n",
    "\n",
    "    return result\n",
    "\n",
    "print(merge_sorted_lists([1, 9, 5], [3, 4, 7]))"
   ]
  },
  {
   "cell_type": "markdown",
   "metadata": {},
   "source": [
    "# Question 5\n",
    "### Write a Python function `binary_search` that implements the binary search algorithm on a sorted list and returns the index of the element if found, or -1 if not found.\n",
    "\n",
    "### Test your function\n",
    "```python\n",
    "print(binary_search([1, 3, 5, 7, 9, 11], 7))  # Expected output: 3\n",
    "print(binary_search([2, 4, 6, 8, 10], 5))  # Expected output: -1\n",
    "```"
   ]
  },
  {
   "cell_type": "code",
   "execution_count": 9,
   "metadata": {},
   "outputs": [
    {
     "name": "stdout",
     "output_type": "stream",
     "text": [
      "-1\n",
      "-1\n"
     ]
    }
   ],
   "source": [
    "def binary_search(arr, target):\n",
    "    left = 0\n",
    "    right = len(arr) - 1\n",
    "    while left <= right:\n",
    "        mid = (left + right) // 2\n",
    "        \n",
    "        if arr[mid] == target:\n",
    "            return mid\n",
    "        elif arr[mid] < target:\n",
    "            left = mid + 1\n",
    "        else:\n",
    "            right = mid - 1\n",
    "            return -1\n",
    "\n",
    "print(binary_search([1, 3, 5, 7, 9, 11], 7))  # Expected output: 3\n",
    "print(binary_search([2, 4, 6, 8, 10], 5))     # Expected output: -1\n"
   ]
  },
  {
   "cell_type": "markdown",
   "metadata": {},
   "source": []
  }
 ],
 "metadata": {
  "kernelspec": {
   "display_name": "Python 3 (ipykernel)",
   "language": "python",
   "name": "python3"
  },
  "language_info": {
   "codemirror_mode": {
    "name": "ipython",
    "version": 3
   },
   "file_extension": ".py",
   "mimetype": "text/x-python",
   "name": "python",
   "nbconvert_exporter": "python",
   "pygments_lexer": "ipython3",
   "version": "3.12.9"
  }
 },
 "nbformat": 4,
 "nbformat_minor": 4
}
